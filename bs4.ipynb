{
 "cells": [
  {
   "cell_type": "code",
   "execution_count": 113,
   "metadata": {},
   "outputs": [],
   "source": [
    "hantopik = \"\"\"\n",
    "<response>\n",
    "<header>\n",
    "<resultCode>00</resultCode>\n",
    "<resultMsg>NORMAL SERVICE</resultMsg>\n",
    "</header>\n",
    "<body>\n",
    "<items>\n",
    "<item>\n",
    "<codeKorNm>\n",
    "<![CDATA[ 듣기 ]]>\n",
    "</codeKorNm>\n",
    "<contentsNameKor>\n",
    "<![CDATA[ 듣기문제 정답 및 스크립트 ]]>\n",
    "</contentsNameKor>\n",
    "<contentsNameEng>\n",
    "<![CDATA[ Answers For Listening Questions&Scripts ]]>\n",
    "</contentsNameEng>\n",
    "</item>\n",
    "<item>\n",
    "<codeKorNm>\n",
    "<![CDATA[ 듣기 ]]>\n",
    "</codeKorNm>\n",
    "<contentsNameKor>\n",
    "<![CDATA[ 듣기문제 ]]>\n",
    "</contentsNameKor>\n",
    "<contentsNameEng>\n",
    "<![CDATA[ Questions-Listening ]]>\n",
    "</contentsNameEng>\n",
    "</item>\n",
    "</items>\n",
    "<numOfRows>2</numOfRows>\n",
    "<pageNo>8</pageNo>\n",
    "<totalCount>15</totalCount>\n",
    "</body>\n",
    "</response>\n",
    "\"\"\""
   ]
  },
  {
   "cell_type": "code",
   "execution_count": 114,
   "metadata": {},
   "outputs": [
    {
     "data": {
      "text/plain": [
       "'\\n<response>\\n<header>\\n<resultCode>00</resultCode>\\n<resultMsg>NORMAL SERVICE</resultMsg>\\n</header>\\n<body>\\n<items>\\n<item>\\n<codeKorNm>\\n<![CDATA[ 듣기 ]]>\\n</codeKorNm>\\n<contentsNameKor>\\n<![CDATA[ 듣기문제 정답 및 스크립트 ]]>\\n</contentsNameKor>\\n<contentsNameEng>\\n<![CDATA[ Answers For Listening Questions&Scripts ]]>\\n</contentsNameEng>\\n</item>\\n<item>\\n<codeKorNm>\\n<![CDATA[ 듣기 ]]>\\n</codeKorNm>\\n<contentsNameKor>\\n<![CDATA[ 듣기문제 ]]>\\n</contentsNameKor>\\n<contentsNameEng>\\n<![CDATA[ Questions-Listening ]]>\\n</contentsNameEng>\\n</item>\\n</items>\\n<numOfRows>2</numOfRows>\\n<pageNo>8</pageNo>\\n<totalCount>15</totalCount>\\n</body>\\n</response>\\n'"
      ]
     },
     "execution_count": 114,
     "metadata": {},
     "output_type": "execute_result"
    }
   ],
   "source": [
    "hantopik"
   ]
  },
  {
   "cell_type": "code",
   "execution_count": 115,
   "metadata": {},
   "outputs": [
    {
     "data": {
      "text/plain": [
       "\n",
       "<response>\n",
       "<header>\n",
       "<resultcode>00</resultcode>\n",
       "<resultmsg>NORMAL SERVICE</resultmsg>\n",
       "</header>\n",
       "<body>\n",
       "<items>\n",
       "<item>\n",
       "<codekornm>\n",
       "<![CDATA[ 듣기 ]]>\n",
       "</codekornm>\n",
       "<contentsnamekor>\n",
       "<![CDATA[ 듣기문제 정답 및 스크립트 ]]>\n",
       "</contentsnamekor>\n",
       "<contentsnameeng>\n",
       "<![CDATA[ Answers For Listening Questions&Scripts ]]>\n",
       "</contentsnameeng>\n",
       "</item>\n",
       "<item>\n",
       "<codekornm>\n",
       "<![CDATA[ 듣기 ]]>\n",
       "</codekornm>\n",
       "<contentsnamekor>\n",
       "<![CDATA[ 듣기문제 ]]>\n",
       "</contentsnamekor>\n",
       "<contentsnameeng>\n",
       "<![CDATA[ Questions-Listening ]]>\n",
       "</contentsnameeng>\n",
       "</item>\n",
       "</items>\n",
       "<numofrows>2</numofrows>\n",
       "<pageno>8</pageno>\n",
       "<totalcount>15</totalcount>\n",
       "</body>\n",
       "</response>"
      ]
     },
     "execution_count": 115,
     "metadata": {},
     "output_type": "execute_result"
    }
   ],
   "source": [
    "from bs4 import BeautifulSoup\n",
    "soup = BeautifulSoup(hantopik, 'html.parser')\n",
    "soup\n"
   ]
  },
  {
   "cell_type": "code",
   "execution_count": 37,
   "metadata": {},
   "outputs": [],
   "source": [
    "import requests #모듈\n",
    "import pprint\n",
    "\n",
    "#인증키 입력\n",
    "encoding = 'ReibuFTQME0upLkYQJqci03SCvnERIg3TRokY8U7ZaZ9H%2BwMy6HomKW70CHC3kW7XObYPcBWkwFISUZZyPWXGA%3D%3D'\n",
    "decoding = 'ReibuFTQME0upLkYQJqci03SCvnERIg3TRokY8U7ZaZ9H+wMy6HomKW70CHC3kW7XObYPcBWkwFISUZZyPWXGA=='\n",
    "\n",
    "#url 입력\n",
    "url = 'http://apis.data.go.kr/B490007/QstbookInfo/getApiQstbookList'\n",
    "params ={'serviceKey' : decoding , \n",
    "'pageNo' : '1', \n",
    "'numOfRows' : '2', \n",
    "'revCd' : '1', \n",
    "}  #pageNo=1&numOfRows=2&revCd=1\n",
    "\n",
    "response = requests.get(url, params=params)\n",
    "\n",
    "# xml 내용\n",
    "content = response.text\n",
    "\n",
    "# 깔끔한 출력 위한 코드\n",
    "pp = pprint.PrettyPrinter(indent=4)\n",
    "#print(pp.pprint(content))\n"
   ]
  },
  {
   "cell_type": "code",
   "execution_count": 40,
   "metadata": {},
   "outputs": [
    {
     "name": "stdout",
     "output_type": "stream",
     "text": [
      "<?xml version=\"1.0\" encoding=\"UTF-8\"?>\n",
      "<response>\n",
      "<header>\n",
      "<resultCode>00</resultCode>\n",
      "<resultMsg>NORMAL SERVICE</resultMsg>\n",
      "</header>\n",
      "\n",
      "<body>\n",
      "<items>\n",
      "\n",
      "\t<item>\n",
      "\t\t\t<revCd>3</revCd>\n",
      "\t\t\t<revNameKor><![CDATA[특별한국어능력시험 직무문항]]></revNameKor>\n",
      "\t\t\t<revNameEng><![CDATA[Work related questions in Special EPS-TOPIK]]></revNameEng>\n",
      "\t\t\t<useYn>Y</useYn>\n",
      "\t\t</item>\n",
      "\n",
      "\t<item>\n",
      "\t\t\t<revCd>2</revCd>\n",
      "\t\t\t<revNameKor><![CDATA[고용허가제 한국어능력시험 공개문제집 1차 개정판]]></revNameKor>\n",
      "\t\t\t<revNameEng><![CDATA[First Revised edition of EPS-TOPIK Question Book]]></revNameEng>\n",
      "\t\t\t<useYn>Y</useYn>\n",
      "\t\t</item>\n",
      "\n",
      "\t</items>\n",
      "\n",
      "<numOfRows>2</numOfRows>\n",
      "<pageNo>2</pageNo>\n",
      "<totalCount>3</totalCount>\n",
      "\n",
      "</body>\n",
      "</response>\n"
     ]
    }
   ],
   "source": [
    "import requests\n",
    "\n",
    "url = 'http://apis.data.go.kr/B490007/QstbookInfo/getApiQstbookList'\n",
    "params = {\n",
    "    'serviceKey': 'ReibuFTQME0upLkYQJqci03SCvnERIg3TRokY8U7ZaZ9H+wMy6HomKW70CHC3kW7XObYPcBWkwFISUZZyPWXGA==',\n",
    "    'pageNo': '1',\n",
    "    'numOfRows': '2',\n",
    "    'revCd': '1'\n",
    "}\n",
    "\n",
    "response = requests.get(url, params=params)\n",
    "\n",
    "# Decode the content using UTF-8\n",
    "content = response.content.decode('utf-8')\n",
    "\n",
    "# Print the decoded content\n",
    "print(content)"
   ]
  },
  {
   "cell_type": "code",
   "execution_count": 44,
   "metadata": {},
   "outputs": [
    {
     "name": "stdout",
     "output_type": "stream",
     "text": [
      "Collecting lxml\n",
      "  Downloading lxml-5.1.0-cp312-cp312-win_amd64.whl.metadata (3.6 kB)\n",
      "Downloading lxml-5.1.0-cp312-cp312-win_amd64.whl (3.9 MB)\n",
      "   ---------------------------------------- 0.0/3.9 MB ? eta -:--:--\n",
      "   ---------------------------------------- 0.0/3.9 MB 660.6 kB/s eta 0:00:06\n",
      "    --------------------------------------- 0.1/3.9 MB 1.3 MB/s eta 0:00:03\n",
      "   - -------------------------------------- 0.2/3.9 MB 2.1 MB/s eta 0:00:02\n",
      "   - -------------------------------------- 0.2/3.9 MB 2.1 MB/s eta 0:00:02\n",
      "   --- ------------------------------------ 0.3/3.9 MB 1.6 MB/s eta 0:00:03\n",
      "   ---- ----------------------------------- 0.5/3.9 MB 2.0 MB/s eta 0:00:02\n",
      "   ---- ----------------------------------- 0.5/3.9 MB 2.0 MB/s eta 0:00:02\n",
      "   ----- ---------------------------------- 0.5/3.9 MB 1.7 MB/s eta 0:00:02\n",
      "   ----- ---------------------------------- 0.5/3.9 MB 1.7 MB/s eta 0:00:02\n",
      "   ----- ---------------------------------- 0.5/3.9 MB 1.7 MB/s eta 0:00:02\n",
      "   ------ --------------------------------- 0.7/3.9 MB 1.4 MB/s eta 0:00:03\n",
      "   ------ --------------------------------- 0.7/3.9 MB 1.3 MB/s eta 0:00:03\n",
      "   ------ --------------------------------- 0.7/3.9 MB 1.3 MB/s eta 0:00:03\n",
      "   ------- -------------------------------- 0.7/3.9 MB 1.1 MB/s eta 0:00:03\n",
      "   ------- -------------------------------- 0.7/3.9 MB 1.1 MB/s eta 0:00:03\n",
      "   ------- -------------------------------- 0.8/3.9 MB 1.1 MB/s eta 0:00:03\n",
      "   --------- ------------------------------ 1.0/3.9 MB 1.3 MB/s eta 0:00:03\n",
      "   ---------- ----------------------------- 1.1/3.9 MB 1.4 MB/s eta 0:00:03\n",
      "   ------------ --------------------------- 1.2/3.9 MB 1.4 MB/s eta 0:00:02\n",
      "   ------------- -------------------------- 1.3/3.9 MB 1.5 MB/s eta 0:00:02\n",
      "   --------------- ------------------------ 1.5/3.9 MB 1.6 MB/s eta 0:00:02\n",
      "   ------------------- -------------------- 1.9/3.9 MB 1.9 MB/s eta 0:00:02\n",
      "   ----------------------- ---------------- 2.3/3.9 MB 2.2 MB/s eta 0:00:01\n",
      "   ---------------------------- ----------- 2.8/3.9 MB 2.6 MB/s eta 0:00:01\n",
      "   ---------------------------------- ----- 3.4/3.9 MB 3.1 MB/s eta 0:00:01\n",
      "   ---------------------------------------  3.9/3.9 MB 3.3 MB/s eta 0:00:01\n",
      "   ---------------------------------------  3.9/3.9 MB 3.3 MB/s eta 0:00:01\n",
      "   ---------------------------------------- 3.9/3.9 MB 3.2 MB/s eta 0:00:00\n",
      "Installing collected packages: lxml\n",
      "Successfully installed lxml-5.1.0\n",
      "Note: you may need to restart the kernel to use updated packages.\n"
     ]
    }
   ],
   "source": [
    "pip install lxml"
   ]
  },
  {
   "cell_type": "code",
   "execution_count": 45,
   "metadata": {},
   "outputs": [
    {
     "ename": "FeatureNotFound",
     "evalue": "Couldn't find a tree builder with the features you requested: xml. Do you need to install a parser library?",
     "output_type": "error",
     "traceback": [
      "\u001b[1;31m---------------------------------------------------------------------------\u001b[0m",
      "\u001b[1;31mFeatureNotFound\u001b[0m                           Traceback (most recent call last)",
      "Cell \u001b[1;32mIn[45], line 31\u001b[0m\n\u001b[0;32m      3\u001b[0m xml_content \u001b[38;5;241m=\u001b[39m \u001b[38;5;124m\"\"\"\u001b[39m\n\u001b[0;32m      4\u001b[0m \u001b[38;5;124m<?xml version=\u001b[39m\u001b[38;5;124m\"\u001b[39m\u001b[38;5;124m1.0\u001b[39m\u001b[38;5;124m\"\u001b[39m\u001b[38;5;124m encoding=\u001b[39m\u001b[38;5;124m\"\u001b[39m\u001b[38;5;124mUTF-8\u001b[39m\u001b[38;5;124m\"\u001b[39m\u001b[38;5;124m?>\u001b[39m\n\u001b[0;32m      5\u001b[0m \u001b[38;5;124m<response>\u001b[39m\n\u001b[1;32m   (...)\u001b[0m\n\u001b[0;32m     27\u001b[0m \u001b[38;5;124m</response>\u001b[39m\n\u001b[0;32m     28\u001b[0m \u001b[38;5;124m\"\"\"\u001b[39m\n\u001b[0;32m     30\u001b[0m \u001b[38;5;66;03m# Parse the XML content with BeautifulSoup\u001b[39;00m\n\u001b[1;32m---> 31\u001b[0m soup \u001b[38;5;241m=\u001b[39m \u001b[43mbs4\u001b[49m\u001b[38;5;241;43m.\u001b[39;49m\u001b[43mBeautifulSoup\u001b[49m\u001b[43m(\u001b[49m\u001b[43mxml_content\u001b[49m\u001b[43m,\u001b[49m\u001b[43m \u001b[49m\u001b[38;5;124;43m'\u001b[39;49m\u001b[38;5;124;43mxml\u001b[39;49m\u001b[38;5;124;43m'\u001b[39;49m\u001b[43m)\u001b[49m\n\u001b[0;32m     33\u001b[0m \u001b[38;5;66;03m# Extract data from 'item' tags\u001b[39;00m\n\u001b[0;32m     34\u001b[0m items \u001b[38;5;241m=\u001b[39m soup\u001b[38;5;241m.\u001b[39mselect(\u001b[38;5;124m'\u001b[39m\u001b[38;5;124mitem\u001b[39m\u001b[38;5;124m'\u001b[39m)\n",
      "File \u001b[1;32mc:\\Users\\user\\miniconda3\\envs\\OpenAI\\Lib\\site-packages\\bs4\\__init__.py:250\u001b[0m, in \u001b[0;36mBeautifulSoup.__init__\u001b[1;34m(self, markup, features, builder, parse_only, from_encoding, exclude_encodings, element_classes, **kwargs)\u001b[0m\n\u001b[0;32m    248\u001b[0m     builder_class \u001b[38;5;241m=\u001b[39m builder_registry\u001b[38;5;241m.\u001b[39mlookup(\u001b[38;5;241m*\u001b[39mfeatures)\n\u001b[0;32m    249\u001b[0m     \u001b[38;5;28;01mif\u001b[39;00m builder_class \u001b[38;5;129;01mis\u001b[39;00m \u001b[38;5;28;01mNone\u001b[39;00m:\n\u001b[1;32m--> 250\u001b[0m         \u001b[38;5;28;01mraise\u001b[39;00m FeatureNotFound(\n\u001b[0;32m    251\u001b[0m             \u001b[38;5;124m\"\u001b[39m\u001b[38;5;124mCouldn\u001b[39m\u001b[38;5;124m'\u001b[39m\u001b[38;5;124mt find a tree builder with the features you \u001b[39m\u001b[38;5;124m\"\u001b[39m\n\u001b[0;32m    252\u001b[0m             \u001b[38;5;124m\"\u001b[39m\u001b[38;5;124mrequested: \u001b[39m\u001b[38;5;132;01m%s\u001b[39;00m\u001b[38;5;124m. Do you need to install a parser library?\u001b[39m\u001b[38;5;124m\"\u001b[39m\n\u001b[0;32m    253\u001b[0m             \u001b[38;5;241m%\u001b[39m \u001b[38;5;124m\"\u001b[39m\u001b[38;5;124m,\u001b[39m\u001b[38;5;124m\"\u001b[39m\u001b[38;5;241m.\u001b[39mjoin(features))\n\u001b[0;32m    255\u001b[0m \u001b[38;5;66;03m# At this point either we have a TreeBuilder instance in\u001b[39;00m\n\u001b[0;32m    256\u001b[0m \u001b[38;5;66;03m# builder, or we have a builder_class that we can instantiate\u001b[39;00m\n\u001b[0;32m    257\u001b[0m \u001b[38;5;66;03m# with the remaining **kwargs.\u001b[39;00m\n\u001b[0;32m    258\u001b[0m \u001b[38;5;28;01mif\u001b[39;00m builder \u001b[38;5;129;01mis\u001b[39;00m \u001b[38;5;28;01mNone\u001b[39;00m:\n",
      "\u001b[1;31mFeatureNotFound\u001b[0m: Couldn't find a tree builder with the features you requested: xml. Do you need to install a parser library?"
     ]
    }
   ],
   "source": [
    "import bs4\n",
    "\n",
    "xml_content = \"\"\"\n",
    "<?xml version=\"1.0\" encoding=\"UTF-8\"?>\n",
    "<response>\n",
    "    <header>\n",
    "        <resultCode>00</resultCode>\n",
    "        <resultMsg>NORMAL SERVICE</resultMsg>\n",
    "    </header>\n",
    "    <body>\n",
    "        <items>\n",
    "            <item>\n",
    "                <revCd>3</revCd>\n",
    "                <revNameKor><![CDATA[특별한국어능력시험 직무문항]]></revNameKor>\n",
    "                <revNameEng><![CDATA[Work related questions in Special EPS-TOPIK]]></revNameEng>\n",
    "                <useYn>Y</useYn>\n",
    "            </item>\n",
    "            <item>\n",
    "                <revCd>2</revCd>\n",
    "                <revNameKor><![CDATA[고용허가제 한국어능력시험 공개문제집 1차 개정판]]></revNameKor>\n",
    "                <revNameEng><![CDATA[First Revised edition of EPS-TOPIK Question Book]]></revNameEng>\n",
    "                <useYn>Y</useYn>\n",
    "            </item>\n",
    "        </items>\n",
    "        <totalCount>3</totalCount>\n",
    "    </body>\n",
    "</response>\n",
    "\"\"\"\n",
    "\n",
    "# Parse the XML content with BeautifulSoup\n",
    "soup = bs4.BeautifulSoup(xml_content, 'xml')\n",
    "\n",
    "# Extract data from 'item' tags\n",
    "items = soup.select('item')\n",
    "data = []\n",
    "\n",
    "for item in items:\n",
    "    rev_cd = item.find('revcd').text\n",
    "    rev_name_kor = item.find('revnamekor').text\n",
    "    rev_name_eng = item.find('revnameeng').text\n",
    "    use_yn = item.find('useyn').text\n",
    "\n",
    "    data.append({\n",
    "        'revCd': rev_cd,\n",
    "        'revNameKor': rev_name_kor,\n",
    "        'revNameEng': rev_name_eng,\n",
    "        'useYn': use_yn\n",
    "    })\n",
    "\n",
    "# Create a DataFrame from the extracted data\n",
    "df = pd.DataFrame(data)\n",
    "\n",
    "# Print the DataFrame\n",
    "print(df)\n"
   ]
  },
  {
   "cell_type": "code",
   "execution_count": 1,
   "metadata": {},
   "outputs": [
    {
     "name": "stdout",
     "output_type": "stream",
     "text": [
      "Requirement already satisfied: lxml in c:\\users\\user\\miniconda3\\envs\\openai\\lib\\site-packages (5.1.0)\n"
     ]
    }
   ],
   "source": [
    "!pip install lxml"
   ]
  },
  {
   "cell_type": "code",
   "execution_count": 6,
   "metadata": {},
   "outputs": [
    {
     "name": "stdout",
     "output_type": "stream",
     "text": [
      "[<item>\n",
      "<revCd>3</revCd>\n",
      "<revNameKor>특별한국어능력시험 직무문항</revNameKor>\n",
      "<revNameEng>Work related questions in Special EPS-TOPIK</revNameEng>\n",
      "<useYn>Y</useYn>\n",
      "</item>, <item>\n",
      "<revCd>2</revCd>\n",
      "<revNameKor>고용허가제 한국어능력시험 공개문제집 1차 개정판</revNameKor>\n",
      "<revNameEng>First Revised edition of EPS-TOPIK Question Book</revNameEng>\n",
      "<useYn>Y</useYn>\n",
      "</item>]\n"
     ]
    }
   ],
   "source": [
    "import bs4\n",
    "\n",
    "# Your XML content\n",
    "xml_content = \"\"\"\n",
    "<?xml version=\"1.0\" encoding=\"UTF-8\"?>\n",
    "<response>\n",
    "    <header>\n",
    "        <resultCode>00</resultCode>\n",
    "        <resultMsg>NORMAL SERVICE</resultMsg>\n",
    "    </header>\n",
    "    <body>\n",
    "        <items>\n",
    "            <item>\n",
    "                <revCd>3</revCd>\n",
    "                <revNameKor><![CDATA[특별한국어능력시험 직무문항]]></revNameKor>\n",
    "                <revNameEng><![CDATA[Work related questions in Special EPS-TOPIK]]></revNameEng>\n",
    "                <useYn>Y</useYn>\n",
    "            </item>\n",
    "            <item>\n",
    "                <revCd>2</revCd>\n",
    "                <revNameKor><![CDATA[고용허가제 한국어능력시험 공개문제집 1차 개정판]]></revNameKor>\n",
    "                <revNameEng><![CDATA[First Revised edition of EPS-TOPIK Question Book]]></revNameEng>\n",
    "                <useYn>Y</useYn>\n",
    "            </item>\n",
    "        </items>\n",
    "        <totalCount>3</totalCount>\n",
    "    </body>\n",
    "</response>\n",
    "\"\"\"\n",
    "\n",
    "# Parse the XML content with BeautifulSoup using 'lxml' parser\n",
    "xml_obj = bs4.BeautifulSoup(xml_content, 'lxml-xml')\n",
    "\n",
    "# Extract data from 'item' tags\n",
    "rows = xml_obj.findAll('item')\n",
    "print(rows)"
   ]
  },
  {
   "cell_type": "code",
   "execution_count": 7,
   "metadata": {},
   "outputs": [],
   "source": [
    "# 각 행의 컬럼, 이름, 값을 가지는 리스트 만들기\n",
    "row_list = [] # 행값\n",
    "name_list = [] # 열이름값\n",
    "value_list = [] #데이터값\n",
    "\n",
    "# xml 안의 데이터 수집\n",
    "for i in range(0, len(rows)):\n",
    "    columns = rows[i].find_all()\n",
    "    #첫째 행 데이터 수집\n",
    "    for j in range(0,len(columns)):\n",
    "        if i ==0:\n",
    "            # 컬럼 이름 값 저장\n",
    "            name_list.append(columns[j].name)\n",
    "        # 컬럼의 각 데이터 값 저장\n",
    "        value_list.append(columns[j].text)\n",
    "    # 각 행의 value값 전체 저장\n",
    "    row_list.append(value_list)\n",
    "    # 데이터 리스트 값 초기화\n",
    "    value_list=[]"
   ]
  },
  {
   "cell_type": "code",
   "execution_count": 21,
   "metadata": {},
   "outputs": [
    {
     "name": "stdout",
     "output_type": "stream",
     "text": [
      "  revCd                  revNameKor  \\\n",
      "0     3              특별한국어능력시험 직무문항   \n",
      "1     2  고용허가제 한국어능력시험 공개문제집 1차 개정판   \n",
      "\n",
      "                                         revNameEng useYn  \n",
      "0       Work related questions in Special EPS-TOPIK     Y  \n",
      "1  First Revised edition of EPS-TOPIK Question Book     Y  \n"
     ]
    }
   ],
   "source": [
    "hantopik_df = pd.DataFrame(row_list, columns=name_list)\n",
    "print(hantopik_df.head(19))"
   ]
  },
  {
   "cell_type": "code",
   "execution_count": 23,
   "metadata": {},
   "outputs": [],
   "source": [
    "hantopik_df.to_csv('hantopik_kr.csv', encoding='utf-8-sig')"
   ]
  }
 ],
 "metadata": {
  "kernelspec": {
   "display_name": "OpenAI",
   "language": "python",
   "name": "python3"
  },
  "language_info": {
   "codemirror_mode": {
    "name": "ipython",
    "version": 3
   },
   "file_extension": ".py",
   "mimetype": "text/x-python",
   "name": "python",
   "nbconvert_exporter": "python",
   "pygments_lexer": "ipython3",
   "version": "3.12.0"
  }
 },
 "nbformat": 4,
 "nbformat_minor": 2
}
